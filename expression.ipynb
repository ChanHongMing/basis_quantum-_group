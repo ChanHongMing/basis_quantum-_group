{
 "cells": [
  {
   "cell_type": "code",
   "execution_count": 2,
   "metadata": {},
   "outputs": [
    {
     "name": "stdout",
     "output_type": "stream",
     "text": [
      "1/(1)Ee\n"
     ]
    }
   ],
   "source": [
    "from expressionG2 import expressionG2\n",
    "import mono\n",
    "import numpy\n",
    "e1=mono.monomial.frommaxmincoe(0,0,numpy.array([1],dtype=int),0,0,numpy.array([1],dtype=int),'E')\n",
    "e2=mono.monomial.frommaxmincoe(0,0,numpy.array([1],dtype=int),0,0,numpy.array([1],dtype=int),'e')\n",
    "b=expressionG2([e2])\n",
    "a=expressionG2([e1])\n",
    "print(a*b)"
   ]
  },
  {
   "cell_type": "code",
   "execution_count": 3,
   "metadata": {},
   "outputs": [
    {
     "name": "stdout",
     "output_type": "stream",
     "text": [
      "1/(1)E\n",
      "1/(1)eE+-1q^3/(1)Ee\n",
      "q^3/(q^0+2q^2+2q^4+q^6)eeEeE+-1q^6/(q^0+2q^2+2q^4+q^6)eeEEe+q^5/(q^0+q^2+q^4)EeeeE+q^3+q^7/(q^0+q^2+q^4)eEeEe+-1q^6/(q^0+2q^2+2q^4+q^6)eEEee+q^9/(q^0+2q^2+2q^4+q^6)EeEee+-1q^2/(q^0+q^2)eEeeE+-1q^6/(q^0+q^2)EeeEe\n",
      "q^1/(q^0+q^2)eeE+q^5/(q^0+q^2)Eee+-1q^2/(1)eEe\n",
      "q^3/(q^0+2q^2+2q^4+q^6)eeeE+q^3/(q^0+q^2)eEee+-1q^6/(q^0+2q^2+2q^4+q^6)Eeee+-1q^2/(q^0+q^2)eeEe\n",
      "1/(1)e\n",
      "\n",
      "\n",
      "1/(1)e\n",
      "q^3/(q^0+2q^2+2q^4+q^6)Eeee+-1q^2/(q^0+q^2)eEee+q^3/(q^0+q^2)eeEe+-1q^6/(q^0+2q^2+2q^4+q^6)eeeE\n",
      "q^1/(q^0+q^2)Eee+-1q^2/(1)eEe+q^5/(q^0+q^2)eeE\n",
      "q^3/(q^0+2q^2+2q^4+q^6)EeEee+-1q^6/(q^0+2q^2+2q^4+q^6)eEEee+q^3+q^7/(q^0+q^2+q^4)eEeEe+-1q^6/(q^0+2q^2+2q^4+q^6)eeEEe+q^9/(q^0+2q^2+2q^4+q^6)eeEeE+q^5/(q^0+q^2+q^4)EeeeE+-1q^6/(q^0+q^2)eEeeE+-1q^2/(q^0+q^2)EeeEe\n",
      "1/(1)Ee+-1q^3/(1)eE\n",
      "1/(1)E\n",
      "q^6/(q^0+q^2+q^6+q^8)eeEEe+q^5/(q^0+q^2+q^4)EeeeE+q^8/(q^0+q^2+q^6+q^8)eEEee+q^9/(q^-3+2q^-1+2q^1+2q^3+2q^5+2q^7+q^9)EEeee+-1q^2/(q^0+q^2)eEeeE+-1q^6/(q^0+q^2)EeeEe+q^6/(q^0+2q^2+2q^4+2q^6+2q^8+2q^10+q^12)eeeEE\n",
      "q^3/(q^-3+2q^-1+2q^1+2q^3+2q^5+2q^7+q^9)EEeee+q^6/(q^0+q^2+q^6+q^8)eEEee+q^8/(q^0+q^2+q^6+q^8)eeEEe+q^5/(q^0+q^2+q^4)EeeeE+-1q^6/(q^0+q^2)eEeeE+-1q^2/(q^0+q^2)EeeEe+q^12/(q^0+2q^2+2q^4+2q^6+2q^8+2q^10+q^12)eeeEE\n"
     ]
    }
   ],
   "source": [
    "T2e1=a.T2()\n",
    "T1T2e1=T2e1.T1()\n",
    "T2T1T2e1=T1T2e1.T2()\n",
    "T1T2T1T2e1=T2T1T2e1.T1()\n",
    "T2T1T2T1T2e1=T1T2T1T2e1.T2()\n",
    "T1e2=b.T1()\n",
    "T2T1e2=T1e2.T2()\n",
    "T1T2T1e2=T2T1e2.T1()\n",
    "T2T1T2T1e2=T1T2T1e2.T2()\n",
    "T1T2T1T2T1e2=T2T1T2T1e2.T1()\n",
    "print(a)\n",
    "print(T1e2)\n",
    "print(T1T2e1)\n",
    "print(T1T2T1e2)\n",
    "print(T1T2T1T2e1)\n",
    "print(T1T2T1T2T1e2)\n",
    "print(\"\\n\")\n",
    "print(b)\n",
    "print(T2e1)\n",
    "print(T2T1e2)\n",
    "print(T2T1T2e1)\n",
    "print(T2T1T2T1e2)\n",
    "print(T2T1T2T1T2e1)\n",
    "sT1T2e1=T1T2e1.sym()\n",
    "print(sT1T2e1)\n",
    "sT2T1T2e1=T2T1T2e1.sym()\n",
    "print(sT2T1T2e1)"
   ]
  },
  {
   "cell_type": "code",
   "execution_count": 16,
   "metadata": {},
   "outputs": [
    {
     "name": "stdout",
     "output_type": "stream",
     "text": [
      "q^6/(q^0+q^2+q^6+q^8)eeEEeE+-1q^3+q^5+q^7+q^11+q^13/(q^0+2q^2+2q^4+2q^6+2q^8+2q^10+q^12)EeeeEE+q^8/(q^0+q^2+q^6+q^8)eEEeeE+-1q^2-1q^4-1q^8-1q^10+q^12/(q^0+2q^2+2q^4+2q^6+2q^8+2q^10+q^12)EEeeeE+-1q^2/(q^0+q^2)eEeeEE+-1q^6/(q^0+q^2)EeeEeE+q^6/(q^0+2q^2+2q^4+2q^6+2q^8+2q^10+q^12)eeeEEE+-1q^3/(q^0+q^2+q^6+q^8)EeeEEe+-1q^5/(q^0+q^2+q^6+q^8)EeEEee+-1q^9/(q^0+2q^2+2q^4+2q^6+2q^8+2q^10+q^12)EEEeee+1/(q^1+q^3)EeEeeE+q^3/(q^0+q^2)EEeeEe\n"
     ]
    }
   ],
   "source": [
    "b1b3=(a*sT1T2e1)\n",
    "b3b1=(sT1T2e1*a)\n",
    "qn3=mono.monomial.frommaxmincoe(0,0,numpy.array([1],dtype=int),-3,-3,numpy.array([1],dtype=int),'')\n",
    "q=expressionG2([qn3])\n",
    "b2b2b2=T1e2*T1e2*T1e2\n",
    "b23=b3b1-q*b1b3\n",
    "print(b23)"
   ]
  }
 ],
 "metadata": {
  "kernelspec": {
   "display_name": "Python 3",
   "language": "python",
   "name": "python3"
  },
  "language_info": {
   "codemirror_mode": {
    "name": "ipython",
    "version": 3
   },
   "file_extension": ".py",
   "mimetype": "text/x-python",
   "name": "python",
   "nbconvert_exporter": "python",
   "pygments_lexer": "ipython3",
   "version": "3.10.4"
  },
  "orig_nbformat": 4,
  "vscode": {
   "interpreter": {
    "hash": "9ebbfa90e91957ff4cb23f7c97684ba97ac33290da8960f5ae46bd629084a4fc"
   }
  }
 },
 "nbformat": 4,
 "nbformat_minor": 2
}
