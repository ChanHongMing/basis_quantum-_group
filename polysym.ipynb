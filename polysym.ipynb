{
 "cells": [
  {
   "cell_type": "code",
   "execution_count": 1,
   "metadata": {},
   "outputs": [],
   "source": [
    "import sympy"
   ]
  },
  {
   "cell_type": "code",
   "execution_count": 1,
   "metadata": {},
   "outputs": [],
   "source": [
    "from sympy import poly\n",
    "from sympy.abc import a,k,t"
   ]
  },
  {
   "cell_type": "code",
   "execution_count": 3,
   "metadata": {},
   "outputs": [
    {
     "name": "stdout",
     "output_type": "stream",
     "text": [
      "Poly(-16*k**3 + (24*a + 48)*k**2 + (-12*a**2 - 48*a - 44)*k + 2*a**3 + 12*a**2 + 22*a + 12, k, domain='ZZ[a]')\n",
      "Poly(a**3 + 6*a**2 + 11*a + 6, a, domain='ZZ')\n"
     ]
    },
    {
     "data": {
      "text/latex": [
       "$\\displaystyle 24$"
      ],
      "text/plain": [
       "24"
      ]
     },
     "execution_count": 3,
     "metadata": {},
     "output_type": "execute_result"
    }
   ],
   "source": [
    "p=poly(2*((a-2*k)**3)+3*((a-2*k)**2)+(a-2*k)-3*(2*a-4*k+3)*(a-2*k+1)*(a-2*k)+6*(a-2*k+2)*(a-2*k+1)*(a-2*k+1),k,domain='ZZ[a]')\n",
    "print(p)\n",
    "q=poly(a**3+6*a**2+11*a+6)\n",
    "print(q)\n",
    "from sympy import factor_list\n",
    "factor_list(q)\n",
    "q.eval(1)"
   ]
  },
  {
   "cell_type": "code",
   "execution_count": null,
   "metadata": {},
   "outputs": [],
   "source": []
  },
  {
   "cell_type": "code",
   "execution_count": 2,
   "metadata": {},
   "outputs": [
    {
     "data": {
      "text/latex": [
       "$\\displaystyle \\operatorname{Poly}{\\left( -2 t^{4} + \\left(4 a + 4\\right) t^{3} + \\left(- 3 a^{2} - 6 a - 1\\right) t^{2} + \\left(a^{3} + 3 a^{2} + a - 1\\right) t + a^{3} + 6 a^{2} + 11 a + 6, t, domain=\\mathbb{Q}\\left(a\\right) \\right)}$"
      ],
      "text/plain": [
       "Poly(-2*t**4 + (4*a + 4)*t**3 + (-3*a**2 - 6*a - 1)*t**2 + (a**3 + 3*a**2 + a - 1)*t + a**3 + 6*a**2 + 11*a + 6, t, domain='QQ(a)')"
      ]
     },
     "metadata": {},
     "output_type": "display_data"
    }
   ],
   "source": [
    "m=poly(-2*(t**4+2*t**3+t**2)+2*(a+2)*(2*t**3+3*t**2+t)-(a**2+4*a+3)*t*(t+1)*3-2*t*(t+1)+(a+1)*(a+2)*(a+3)*(t+1),t,domain='QQ(a)')\n",
    "display(m)"
   ]
  },
  {
   "cell_type": "code",
   "execution_count": 26,
   "metadata": {},
   "outputs": [
    {
     "name": "stdout",
     "output_type": "stream",
     "text": [
      "<class 'sympy.polys.domains.fractionfield.FractionField'>\n",
      "0 0 1\n",
      "1 0 4\n",
      "2 1 11\n",
      "3 1 24\n",
      "4 2 46\n",
      "5 2 80\n",
      "6 3 130\n",
      "7 3 200\n",
      "8 4 295\n",
      "9 4 420\n",
      "10 5 581\n",
      "11 5 784\n",
      "12 6 1036\n",
      "13 6 1344\n",
      "14 7 1716\n",
      "15 7 2160\n",
      "16 8 2685\n",
      "17 8 3300\n",
      "18 9 4015\n",
      "19 9 4840\n",
      "0 0 1\n",
      "1 0 4\n",
      "2 1 11\n",
      "3 1 24\n",
      "4 2 46\n",
      "5 2 80\n",
      "6 3 130\n",
      "7 3 200\n",
      "8 4 295\n",
      "9 4 420\n"
     ]
    },
    {
     "data": {
      "text/latex": [
       "$\\displaystyle 2 b^{4} + 12 b^{3} + 25 b^{2} + 21 b + 6$"
      ],
      "text/plain": [
       "   4       3       2           \n",
       "2⋅b  + 12⋅b  + 25⋅b  + 21⋅b + 6"
      ]
     },
     "execution_count": 26,
     "metadata": {},
     "output_type": "execute_result"
    }
   ],
   "source": [
    "m=poly(-2*(t**4+2*t**3+t**2)+2*(a+2)*(2*t**3+3*t**2+t)-(a**2+4*a+3)*t*(t+1)*3-2*t*(t+1)+(a+1)*(a+2)*(a+3)*(t+1),t,domain='QQ(a)')\n",
    "\n",
    "print(type(m.domain))\n",
    "from sympy.abc import b\n",
    "s=poly(m.eval(b),a)\n",
    "n1=poly(s.eval(2*b),b)\n",
    "n2=poly(s.eval(2*b+1),b)\n",
    "for i in range(0,10):\n",
    "    print(2*i,i,n1.eval(i)/6)\n",
    "    print(2*i+1,i,n2.eval(i)/6)\n",
    "for i in range(0,10):\n",
    "    j=i//2\n",
    "    print(i,j,end=' ')\n",
    "    n=poly(m.eval(j),a)\n",
    "    print(n.eval(i)/6)\n",
    "n1.as_expr()"
   ]
  },
  {
   "cell_type": "code",
   "execution_count": 20,
   "metadata": {},
   "outputs": [
    {
     "data": {
      "text/latex": [
       "$\\displaystyle 2 b^{4} + 16 b^{3} + 46 b^{2} + 56 b + 24$"
      ],
      "text/plain": [
       "   4       3       2            \n",
       "2⋅b  + 16⋅b  + 46⋅b  + 56⋅b + 24"
      ]
     },
     "execution_count": 20,
     "metadata": {},
     "output_type": "execute_result"
    }
   ],
   "source": [
    "n2.as_expr()"
   ]
  },
  {
   "cell_type": "code",
   "execution_count": 56,
   "metadata": {},
   "outputs": [
    {
     "name": "stdout",
     "output_type": "stream",
     "text": [
      "Poly(a**3 + 6*a**2 + 11*a + 6, a, domain='ZZ')\n"
     ]
    }
   ],
   "source": [
    "s=poly(3*(a**2)*(a+1)+6*(a+1)**2-2*a**3-3*a**2-a)\n",
    "print(s)"
   ]
  },
  {
   "cell_type": "code",
   "execution_count": null,
   "metadata": {},
   "outputs": [],
   "source": [
    "poly((1+x+x^2)^2/((1-x^3)^4*(1-x^2))"
   ]
  },
  {
   "cell_type": "code",
   "execution_count": 21,
   "metadata": {},
   "outputs": [
    {
     "data": {
      "text/latex": [
       "$\\displaystyle \\operatorname{Poly}{\\left( \\frac{1}{6} x^{3} + x^{2} + \\frac{11}{6} x + 1, x, domain=\\mathbb{Q} \\right)}$"
      ],
      "text/plain": [
       "Poly(1/6*x**3 + x**2 + 11/6*x + 1, x, domain='QQ')"
      ]
     },
     "execution_count": 21,
     "metadata": {},
     "output_type": "execute_result"
    }
   ],
   "source": [
    "from sympy import poly\n",
    "from sympy.abc import x,y,z\n",
    "p4=poly(x**3/6+x**2+11*x/6+1,x,domain='QQ')\n",
    "p4"
   ]
  },
  {
   "cell_type": "code",
   "execution_count": 22,
   "metadata": {},
   "outputs": [
    {
     "data": {
      "text/latex": [
       "$\\displaystyle \\operatorname{Poly}{\\left( \\frac{4}{3} y^{3} + 6 y^{2} + \\frac{26}{3} y + 4, y, domain=\\mathbb{Q} \\right)}$"
      ],
      "text/plain": [
       "Poly(4/3*y**3 + 6*y**2 + 26/3*y + 4, y, domain='QQ')"
      ]
     },
     "execution_count": 22,
     "metadata": {},
     "output_type": "execute_result"
    }
   ],
   "source": [
    "p5=poly(p4.eval(2*y+1),y,domain='QQ')\n",
    "p5"
   ]
  },
  {
   "cell_type": "code",
   "execution_count": 23,
   "metadata": {},
   "outputs": [
    {
     "data": {
      "text/latex": [
       "$\\displaystyle \\operatorname{Poly}{\\left( \\frac{1}{3} z^{4} + \\frac{8}{3} z^{3} + \\frac{23}{3} z^{2} + \\frac{28}{3} z + 4, z, domain=\\mathbb{Q} \\right)}$"
      ],
      "text/plain": [
       "Poly(1/3*z**4 + 8/3*z**3 + 23/3*z**2 + 28/3*z + 4, z, domain='QQ')"
      ]
     },
     "execution_count": 23,
     "metadata": {},
     "output_type": "execute_result"
    }
   ],
   "source": [
    "p6=p5.subs(y**3,z**4/4+z**3/2+z**2/4)\n",
    "p7=p6.subs(y**2,z**3/3+z**2/2+z/6)\n",
    "p8=p7.subs(y,z**2/2+z/2)\n",
    "p8=poly(p8,z,domain='QQ')\n",
    "p8.TC()\n",
    "p9=poly(p8-p8.TC()+p8.TC()*(z+1),z,domain='QQ')\n",
    "p9"
   ]
  },
  {
   "cell_type": "code",
   "execution_count": 3,
   "metadata": {},
   "outputs": [
    {
     "data": {
      "text/latex": [
       "$\\displaystyle \\operatorname{Poly}{\\left( -ax - a + bx + b - x^{2} + 1, a, b, x, domain=\\mathbb{Q} \\right)}$"
      ],
      "text/plain": [
       "Poly(-a*x - a + b*x + b - x**2 + 1, a, b, x, domain='QQ')"
      ]
     },
     "metadata": {},
     "output_type": "display_data"
    },
    {
     "data": {
      "text/latex": [
       "$\\displaystyle \\operatorname{Poly}{\\left( - \\frac{3}{2} a^{2} + 2 ab - ax + \\frac{1}{2} a + bx - 2 by - b - x^{2} + \\frac{3}{2} y^{2} + \\frac{3}{2} y + 1, a, b, x, y, domain=\\mathbb{Q} \\right)}$"
      ],
      "text/plain": [
       "Poly(-3/2*a**2 + 2*a*b - a*x + 1/2*a + b*x - 2*b*y - b - x**2 + 3/2*y**2 + 3/2*y + 1, a, b, x, y, domain='QQ')"
      ]
     },
     "metadata": {},
     "output_type": "display_data"
    },
    {
     "name": "stdout",
     "output_type": "stream",
     "text": [
      "For 3a/2>=b>=a, a= 2*n and b= 6*m\n"
     ]
    },
    {
     "data": {
      "text/latex": [
       "$\\displaystyle 9 m^{2} - 6 m n + 6 m + n^{2} - 2 n + 1$"
      ],
      "text/plain": [
       "9*m**2 - 6*m*n + 6*m + n**2 - 2*n + 1"
      ]
     },
     "metadata": {},
     "output_type": "display_data"
    },
    {
     "name": "stdout",
     "output_type": "stream",
     "text": [
      "For 3a/2>=b>=a, a= 2*n and b= 6*m + 1\n"
     ]
    },
    {
     "data": {
      "text/latex": [
       "$\\displaystyle 9 m^{2} - 6 m n + 9 m + n^{2} - 3 n + 2$"
      ],
      "text/plain": [
       "9*m**2 - 6*m*n + 9*m + n**2 - 3*n + 2"
      ]
     },
     "metadata": {},
     "output_type": "display_data"
    },
    {
     "name": "stdout",
     "output_type": "stream",
     "text": [
      "For 3a/2>=b>=a, a= 2*n and b= 6*m + 2\n"
     ]
    },
    {
     "data": {
      "text/latex": [
       "$\\displaystyle 9 m^{2} - 6 m n + 12 m + n^{2} - 4 n + 4$"
      ],
      "text/plain": [
       "9*m**2 - 6*m*n + 12*m + n**2 - 4*n + 4"
      ]
     },
     "metadata": {},
     "output_type": "display_data"
    },
    {
     "name": "stdout",
     "output_type": "stream",
     "text": [
      "For 3a/2>=b>=a, a= 2*n and b= 6*m + 3\n"
     ]
    },
    {
     "data": {
      "text/latex": [
       "$\\displaystyle 9 m^{2} - 6 m n + 15 m + n^{2} - 5 n + 6$"
      ],
      "text/plain": [
       "9*m**2 - 6*m*n + 15*m + n**2 - 5*n + 6"
      ]
     },
     "metadata": {},
     "output_type": "display_data"
    },
    {
     "name": "stdout",
     "output_type": "stream",
     "text": [
      "For 3a/2>=b>=a, a= 2*n and b= 6*m + 4\n"
     ]
    },
    {
     "data": {
      "text/latex": [
       "$\\displaystyle 9 m^{2} - 6 m n + 18 m + n^{2} - 6 n + 9$"
      ],
      "text/plain": [
       "9*m**2 - 6*m*n + 18*m + n**2 - 6*n + 9"
      ]
     },
     "metadata": {},
     "output_type": "display_data"
    },
    {
     "name": "stdout",
     "output_type": "stream",
     "text": [
      "For 3a/2>=b>=a, a= 2*n and b= 6*m + 5\n"
     ]
    },
    {
     "data": {
      "text/latex": [
       "$\\displaystyle 9 m^{2} - 6 m n + 21 m + n^{2} - 7 n + 12$"
      ],
      "text/plain": [
       "9*m**2 - 6*m*n + 21*m + n**2 - 7*n + 12"
      ]
     },
     "metadata": {},
     "output_type": "display_data"
    },
    {
     "name": "stdout",
     "output_type": "stream",
     "text": [
      "For 3a/2>=b>=a, a= 2*n + 1 and b= 6*m\n"
     ]
    },
    {
     "data": {
      "text/latex": [
       "$\\displaystyle 9 m^{2} - 6 m n + 3 m + n^{2} - n$"
      ],
      "text/plain": [
       "9*m**2 - 6*m*n + 3*m + n**2 - n"
      ]
     },
     "metadata": {},
     "output_type": "display_data"
    },
    {
     "name": "stdout",
     "output_type": "stream",
     "text": [
      "For 3a/2>=b>=a, a= 2*n + 1 and b= 6*m + 1\n"
     ]
    },
    {
     "data": {
      "text/latex": [
       "$\\displaystyle 9 m^{2} - 6 m n + 6 m + n^{2} - 2 n + 1$"
      ],
      "text/plain": [
       "9*m**2 - 6*m*n + 6*m + n**2 - 2*n + 1"
      ]
     },
     "metadata": {},
     "output_type": "display_data"
    },
    {
     "name": "stdout",
     "output_type": "stream",
     "text": [
      "For 3a/2>=b>=a, a= 2*n + 1 and b= 6*m + 2\n"
     ]
    },
    {
     "data": {
      "text/latex": [
       "$\\displaystyle 9 m^{2} - 6 m n + 9 m + n^{2} - 3 n + 2$"
      ],
      "text/plain": [
       "9*m**2 - 6*m*n + 9*m + n**2 - 3*n + 2"
      ]
     },
     "metadata": {},
     "output_type": "display_data"
    },
    {
     "name": "stdout",
     "output_type": "stream",
     "text": [
      "For 3a/2>=b>=a, a= 2*n + 1 and b= 6*m + 3\n"
     ]
    },
    {
     "data": {
      "text/latex": [
       "$\\displaystyle 9 m^{2} - 6 m n + 12 m + n^{2} - 4 n + 4$"
      ],
      "text/plain": [
       "9*m**2 - 6*m*n + 12*m + n**2 - 4*n + 4"
      ]
     },
     "metadata": {},
     "output_type": "display_data"
    },
    {
     "name": "stdout",
     "output_type": "stream",
     "text": [
      "For 3a/2>=b>=a, a= 2*n + 1 and b= 6*m + 4\n"
     ]
    },
    {
     "data": {
      "text/latex": [
       "$\\displaystyle 9 m^{2} - 6 m n + 15 m + n^{2} - 5 n + 6$"
      ],
      "text/plain": [
       "9*m**2 - 6*m*n + 15*m + n**2 - 5*n + 6"
      ]
     },
     "metadata": {},
     "output_type": "display_data"
    },
    {
     "name": "stdout",
     "output_type": "stream",
     "text": [
      "For 3a/2>=b>=a, a= 2*n + 1 and b= 6*m + 5\n"
     ]
    },
    {
     "data": {
      "text/latex": [
       "$\\displaystyle 9 m^{2} - 6 m n + 18 m + n^{2} - 6 n + 9$"
      ],
      "text/plain": [
       "9*m**2 - 6*m*n + 18*m + n**2 - 6*n + 9"
      ]
     },
     "metadata": {},
     "output_type": "display_data"
    },
    {
     "name": "stdout",
     "output_type": "stream",
     "text": [
      "For 2a>=b>=3a/2, a= 2*n and b= 6*m\n"
     ]
    },
    {
     "data": {
      "text/latex": [
       "$\\displaystyle - 15 m^{2} + 18 m n - 5 n^{2} + n + 1$"
      ],
      "text/plain": [
       "-15*m**2 + 18*m*n - 5*n**2 + n + 1"
      ]
     },
     "metadata": {},
     "output_type": "display_data"
    },
    {
     "name": "stdout",
     "output_type": "stream",
     "text": [
      "For 2a>=b>=3a/2, a= 2*n and b= 6*m + 1\n"
     ]
    },
    {
     "data": {
      "text/latex": [
       "$\\displaystyle - 15 m^{2} + 18 m n - 5 m - 5 n^{2} + 4 n$"
      ],
      "text/plain": [
       "-15*m**2 + 18*m*n - 5*m - 5*n**2 + 4*n"
      ]
     },
     "metadata": {},
     "output_type": "display_data"
    },
    {
     "name": "stdout",
     "output_type": "stream",
     "text": [
      "For 2a>=b>=3a/2, a= 2*n and b= 6*m + 2\n"
     ]
    },
    {
     "data": {
      "text/latex": [
       "$\\displaystyle - 15 m^{2} + 18 m n - 10 m - 5 n^{2} + 7 n - 1$"
      ],
      "text/plain": [
       "-15*m**2 + 18*m*n - 10*m - 5*n**2 + 7*n - 1"
      ]
     },
     "metadata": {},
     "output_type": "display_data"
    },
    {
     "name": "stdout",
     "output_type": "stream",
     "text": [
      "For 2a>=b>=3a/2, a= 2*n and b= 6*m + 3\n"
     ]
    },
    {
     "data": {
      "text/latex": [
       "$\\displaystyle - 15 m^{2} + 18 m n - 15 m - 5 n^{2} + 10 n - 3$"
      ],
      "text/plain": [
       "-15*m**2 + 18*m*n - 15*m - 5*n**2 + 10*n - 3"
      ]
     },
     "metadata": {},
     "output_type": "display_data"
    },
    {
     "name": "stdout",
     "output_type": "stream",
     "text": [
      "For 2a>=b>=3a/2, a= 2*n and b= 6*m + 4\n"
     ]
    },
    {
     "data": {
      "text/latex": [
       "$\\displaystyle - 15 m^{2} + 18 m n - 20 m - 5 n^{2} + 13 n - 6$"
      ],
      "text/plain": [
       "-15*m**2 + 18*m*n - 20*m - 5*n**2 + 13*n - 6"
      ]
     },
     "metadata": {},
     "output_type": "display_data"
    },
    {
     "name": "stdout",
     "output_type": "stream",
     "text": [
      "For 2a>=b>=3a/2, a= 2*n and b= 6*m + 5\n"
     ]
    },
    {
     "data": {
      "text/latex": [
       "$\\displaystyle - 15 m^{2} + 18 m n - 25 m - 5 n^{2} + 16 n - 10$"
      ],
      "text/plain": [
       "-15*m**2 + 18*m*n - 25*m - 5*n**2 + 16*n - 10"
      ]
     },
     "metadata": {},
     "output_type": "display_data"
    },
    {
     "name": "stdout",
     "output_type": "stream",
     "text": [
      "For 2a>=b>=3a/2, a= 2*n + 1 and b= 6*m\n"
     ]
    },
    {
     "data": {
      "text/latex": [
       "$\\displaystyle - 15 m^{2} + 18 m n + 9 m - 5 n^{2} - 4 n$"
      ],
      "text/plain": [
       "-15*m**2 + 18*m*n + 9*m - 5*n**2 - 4*n"
      ]
     },
     "metadata": {},
     "output_type": "display_data"
    },
    {
     "name": "stdout",
     "output_type": "stream",
     "text": [
      "For 2a>=b>=3a/2, a= 2*n + 1 and b= 6*m + 1\n"
     ]
    },
    {
     "data": {
      "text/latex": [
       "$\\displaystyle - 15 m^{2} + 18 m n + 4 m - 5 n^{2} - n + 1$"
      ],
      "text/plain": [
       "-15*m**2 + 18*m*n + 4*m - 5*n**2 - n + 1"
      ]
     },
     "metadata": {},
     "output_type": "display_data"
    },
    {
     "name": "stdout",
     "output_type": "stream",
     "text": [
      "For 2a>=b>=3a/2, a= 2*n + 1 and b= 6*m + 2\n"
     ]
    },
    {
     "data": {
      "text/latex": [
       "$\\displaystyle - 15 m^{2} + 18 m n - m - 5 n^{2} + 2 n + 1$"
      ],
      "text/plain": [
       "-15*m**2 + 18*m*n - m - 5*n**2 + 2*n + 1"
      ]
     },
     "metadata": {},
     "output_type": "display_data"
    },
    {
     "name": "stdout",
     "output_type": "stream",
     "text": [
      "For 2a>=b>=3a/2, a= 2*n + 1 and b= 6*m + 3\n"
     ]
    },
    {
     "data": {
      "text/latex": [
       "$\\displaystyle - 15 m^{2} + 18 m n - 6 m - 5 n^{2} + 5 n + 1$"
      ],
      "text/plain": [
       "-15*m**2 + 18*m*n - 6*m - 5*n**2 + 5*n + 1"
      ]
     },
     "metadata": {},
     "output_type": "display_data"
    },
    {
     "name": "stdout",
     "output_type": "stream",
     "text": [
      "For 2a>=b>=3a/2, a= 2*n + 1 and b= 6*m + 4\n"
     ]
    },
    {
     "data": {
      "text/latex": [
       "$\\displaystyle - 15 m^{2} + 18 m n - 11 m - 5 n^{2} + 8 n - 1$"
      ],
      "text/plain": [
       "-15*m**2 + 18*m*n - 11*m - 5*n**2 + 8*n - 1"
      ]
     },
     "metadata": {},
     "output_type": "display_data"
    },
    {
     "name": "stdout",
     "output_type": "stream",
     "text": [
      "For 2a>=b>=3a/2, a= 2*n + 1 and b= 6*m + 5\n"
     ]
    },
    {
     "data": {
      "text/latex": [
       "$\\displaystyle - 15 m^{2} + 18 m n - 16 m - 5 n^{2} + 11 n - 3$"
      ],
      "text/plain": [
       "-15*m**2 + 18*m*n - 16*m - 5*n**2 + 11*n - 3"
      ]
     },
     "metadata": {},
     "output_type": "display_data"
    }
   ],
   "source": [
    "from sympy import poly\n",
    "from sympy.abc import a,b,x,y,m,n\n",
    "from sympy import floor\n",
    "\n",
    "p1=poly((b-a+1)*(x+1)-x*(x+1),a,b,x,domain='QQ')\n",
    "p2=poly((y-a+1)*(2*a-b+1)+3*(y-a+1)*(y-a)/2+(b-a+1)*(x-y+a)-(x+1)*x,a,b,x,y,domain='QQ')\n",
    "p3=poly((y-b+a+1)*(2*a-b+1)+3*(y-a+1)*(y-a)/2+(b-a+1)*(x-y+a)-(x+1)*x,a,b,x,y,domain='QQ') #TODO: correct this\n",
    "display(p1)\n",
    "display(p2)\n",
    "alist=[]\n",
    "blist=[]\n",
    "xlist=[]\n",
    "ylist=[]\n",
    "for i in range(6):\n",
    "    blist.append(poly(6*m+i,domain='QQ'))\n",
    "for i in range(2):\n",
    "    alist.append(poly(2*n+i,domain='QQ'))\n",
    "for i in range(2):\n",
    "    xlist.append([])\n",
    "    ylist.append([])\n",
    "    for j in range(6):\n",
    "        xlist[i].append(poly((blist[j]-alist[i])/2,m,n,domain='QQ'))\n",
    "        xlist[i][j]=poly(xlist[i][j]-xlist[i][j].TC()+floor(xlist[i][j].TC()),m,n,domain='QQ')\n",
    "        ylist[i].append(poly(2*blist[j]/3,m,n,domain='QQ'))\n",
    "        ylist[i][j]=poly(ylist[i][j]-ylist[i][j].TC()+floor(ylist[i][j].TC()),m,n,domain='QQ')\n",
    "\n",
    "p1list=[]\n",
    "p2list=[]\n",
    "for i in range(2):\n",
    "    p1list.append([])\n",
    "    p2list.append([])\n",
    "    for j in range(6):\n",
    "        s1=p1.subs(a,alist[i].as_expr())\n",
    "        s1=s1.subs(b,blist[j].as_expr())\n",
    "        s1=s1.subs(x,xlist[i][j].as_expr())\n",
    "        s1=poly(s1.as_expr(),m,n,domain='QQ')\n",
    "        p1list[i].append(s1)\n",
    "        s2=p2.subs(a,alist[i].as_expr())\n",
    "        s2=s2.subs(b,blist[j].as_expr())\n",
    "        s2=s2.subs(x,xlist[i][j].as_expr())\n",
    "        s2=s2.subs(y,ylist[i][j].as_expr())\n",
    "        s2=poly(s2.as_expr(),m,n,domain='QQ')\n",
    "        p2list[i].append(s2)\n",
    "\n",
    "for i in range(2):\n",
    "    for j in range(6):\n",
    "        print('For 3a/2>=b>=a, a=',alist[i].as_expr(),'and b=',blist[j].as_expr())\n",
    "        display(p1list[i][j].as_expr())\n",
    "for i in range(2):\n",
    "    for j in range(6):\n",
    "        print('For 2a>=b>=3a/2, a=',alist[i].as_expr(),'and b=',blist[j].as_expr())\n",
    "        display(p2list[i][j].as_expr())"
   ]
  },
  {
   "cell_type": "code",
   "execution_count": 4,
   "metadata": {},
   "outputs": [
    {
     "data": {
      "text/latex": [
       "$\\displaystyle q^{3} + 2 q + \\frac{2}{q} + \\frac{1}{q^{3}}$"
      ],
      "text/plain": [
       "q**3 + 2*q + 2/q + q**(-3)"
      ]
     },
     "metadata": {},
     "output_type": "display_data"
    }
   ],
   "source": [
    "from sympy import poly\n",
    "from sympy.abc import q \n",
    "a=(q**(-2)+1+q**2)*(q**(-1)+q)\n",
    "display(a.simplify().expand())"
   ]
  }
 ],
 "metadata": {
  "kernelspec": {
   "display_name": "Python 3.10.4 64-bit",
   "language": "python",
   "name": "python3"
  },
  "language_info": {
   "codemirror_mode": {
    "name": "ipython",
    "version": 3
   },
   "file_extension": ".py",
   "mimetype": "text/x-python",
   "name": "python",
   "nbconvert_exporter": "python",
   "pygments_lexer": "ipython3",
   "version": "3.10.4 (tags/v3.10.4:9d38120, Mar 23 2022, 23:13:41) [MSC v.1929 64 bit (AMD64)]"
  },
  "orig_nbformat": 4,
  "vscode": {
   "interpreter": {
    "hash": "9ebbfa90e91957ff4cb23f7c97684ba97ac33290da8960f5ae46bd629084a4fc"
   }
  }
 },
 "nbformat": 4,
 "nbformat_minor": 2
}
