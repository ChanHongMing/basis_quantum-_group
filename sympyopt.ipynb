{
 "cells": [
  {
   "cell_type": "code",
   "execution_count": 3,
   "metadata": {},
   "outputs": [],
   "source": [
    "from sympy import poly\n",
    "from sympy import symbols\n",
    "\n",
    "x,y=symbols('x y',commutative=False)\n",
    "q=symbols('q',commutative=True)\n",
    "#poly(x*y/(q+q**(-1))+y*x/(q+q**(-1)),x,y,domain='QQ(q)')"
   ]
  },
  {
   "cell_type": "code",
   "execution_count": 21,
   "metadata": {},
   "outputs": [
    {
     "name": "stdout",
     "output_type": "stream",
     "text": [
      "q**3/(q**4 + 2*q**2 + 1)\n",
      "True <class 'sympy.polys.fields.FracElement'>\n"
     ]
    },
    {
     "ename": "TypeError",
     "evalue": "isinstance() arg 2 must be a type, a tuple of types, or a union",
     "output_type": "error",
     "traceback": [
      "\u001b[1;31m---------------------------------------------------------------------------\u001b[0m",
      "\u001b[1;31mTypeError\u001b[0m                                 Traceback (most recent call last)",
      "Cell \u001b[1;32mIn [21], line 12\u001b[0m\n\u001b[0;32m     10\u001b[0m \u001b[39mprint\u001b[39m(t\u001b[39m*\u001b[39mt2)\n\u001b[0;32m     11\u001b[0m \u001b[39mprint\u001b[39m(rf2\u001b[39m==\u001b[39mt\u001b[39m.\u001b[39mfield,\u001b[39mtype\u001b[39m(t))\n\u001b[1;32m---> 12\u001b[0m \u001b[39mprint\u001b[39m(\u001b[39misinstance\u001b[39m(t,rf))\n\u001b[0;32m     13\u001b[0m E1,E2\u001b[39m=\u001b[39msymbols(\u001b[39m'\u001b[39m\u001b[39mE1 E2\u001b[39m\u001b[39m'\u001b[39m,commutative\u001b[39m=\u001b[39m\u001b[39mFalse\u001b[39;00m)\n\u001b[0;32m     14\u001b[0m expr\u001b[39m=\u001b[39mE1\u001b[39m*\u001b[39mE2\u001b[39m*\u001b[39mE1\u001b[39m/\u001b[39m(q\u001b[39m+\u001b[39mq\u001b[39m*\u001b[39m\u001b[39m*\u001b[39m(\u001b[39m-\u001b[39m\u001b[39m1\u001b[39m))\u001b[39m+\u001b[39mE2\u001b[39m*\u001b[39mE1\u001b[39m*\u001b[39mq\u001b[39m/\u001b[39m(q\u001b[39m+\u001b[39mq\u001b[39m*\u001b[39m\u001b[39m*\u001b[39m(\u001b[39m-\u001b[39m\u001b[39m1\u001b[39m))\u001b[39m+\u001b[39mE1\u001b[39m*\u001b[39mE2\u001b[39m*\u001b[39mq\u001b[39m*\u001b[39m\u001b[39m*\u001b[39m\u001b[39m2\u001b[39m\u001b[39m/\u001b[39m(q\u001b[39m+\u001b[39mq\u001b[39m*\u001b[39m\u001b[39m*\u001b[39m(\u001b[39m-\u001b[39m\u001b[39m1\u001b[39m))\u001b[39m+\u001b[39mE2\u001b[39m*\u001b[39mE1\u001b[39m*\u001b[39mq\u001b[39m*\u001b[39m\u001b[39m*\u001b[39m\u001b[39m3\u001b[39m\u001b[39m/\u001b[39m(q\u001b[39m+\u001b[39mq\u001b[39m*\u001b[39m\u001b[39m*\u001b[39m(\u001b[39m-\u001b[39m\u001b[39m1\u001b[39m))\n",
      "\u001b[1;31mTypeError\u001b[0m: isinstance() arg 2 must be a type, a tuple of types, or a union"
     ]
    }
   ],
   "source": [
    "from sympy.polys.fields import FracField\n",
    "from sympy import QQ\n",
    "from sympy import srepr\n",
    "from sympy import collect\n",
    "q=symbols('q',commutative=True)\n",
    "rf=FracField(symbols=q,domain=QQ)\n",
    "rf2=FracField(symbols=q,domain=QQ)\n",
    "t=rf(1/(q+q**(-1)))\n",
    "t2=rf2(q/(q+q**(-1)))\n",
    "print(t*t2)\n",
    "print(rf2==t.field,type(t))\n",
    "print(isinstance(t,rf))\n",
    "E1,E2=symbols('E1 E2',commutative=False)\n",
    "expr=E1*E2*E1/(q+q**(-1))+E2*E1*q/(q+q**(-1))+E1*E2*q**2/(q+q**(-1))+E2*E1*q**3/(q+q**(-1))\n",
    "n=expr.cancel().expand()\n",
    "n"
   ]
  },
  {
   "cell_type": "code",
   "execution_count": 65,
   "metadata": {},
   "outputs": [
    {
     "data": {
      "text/latex": [
       "$\\displaystyle \\left(\\frac{q^{4}}{q^{2} + 1} + \\frac{q^{2}}{q^{2} + 1} + \\frac{q E_{1}}{q^{2} + 1}\\right) E_{2} E_{1}$"
      ],
      "text/plain": [
       "(q**4/(q**2 + 1) + q**2/(q**2 + 1) + q*E1/(q**2 + 1))*E2*E1"
      ]
     },
     "execution_count": 65,
     "metadata": {},
     "output_type": "execute_result"
    }
   ],
   "source": [
    "s1=n.coeff(E1*E2)\n",
    "s2=n.coeff(E2*E1)*E2*E1\n",
    "s2\n",
    "#p=s1.subs(E1*E2,q*E2*E1*E2+q**(-1)*E1*E2*E1)+s2\n"
   ]
  },
  {
   "cell_type": "code",
   "execution_count": 66,
   "metadata": {},
   "outputs": [
    {
     "data": {
      "text/latex": [
       "$\\displaystyle \\frac{1}{q^{2} + 1}$"
      ],
      "text/plain": [
       "1/(q**2 + 1)"
      ]
     },
     "execution_count": 66,
     "metadata": {},
     "output_type": "execute_result"
    }
   ],
   "source": [
    "s1"
   ]
  },
  {
   "cell_type": "code",
   "execution_count": 51,
   "metadata": {},
   "outputs": [
    {
     "data": {
      "text/latex": [
       "$\\displaystyle q$"
      ],
      "text/plain": [
       "q"
      ]
     },
     "execution_count": 51,
     "metadata": {},
     "output_type": "execute_result"
    }
   ],
   "source": [
    "collect(n)"
   ]
  }
 ],
 "metadata": {
  "kernelspec": {
   "display_name": "Python 3.10.4 64-bit",
   "language": "python",
   "name": "python3"
  },
  "language_info": {
   "codemirror_mode": {
    "name": "ipython",
    "version": 3
   },
   "file_extension": ".py",
   "mimetype": "text/x-python",
   "name": "python",
   "nbconvert_exporter": "python",
   "pygments_lexer": "ipython3",
   "version": "3.10.4 (tags/v3.10.4:9d38120, Mar 23 2022, 23:13:41) [MSC v.1929 64 bit (AMD64)]"
  },
  "orig_nbformat": 4,
  "vscode": {
   "interpreter": {
    "hash": "9ebbfa90e91957ff4cb23f7c97684ba97ac33290da8960f5ae46bd629084a4fc"
   }
  }
 },
 "nbformat": 4,
 "nbformat_minor": 2
}
